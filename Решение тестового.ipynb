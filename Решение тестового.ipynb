{
 "cells": [
  {
   "cell_type": "code",
   "execution_count": 1,
   "metadata": {},
   "outputs": [],
   "source": [
    "import requests\n",
    "from bs4 import BeautifulSoup\n",
    "import pandas as pd\n",
    "import re"
   ]
  },
  {
   "cell_type": "markdown",
   "metadata": {},
   "source": [
    "# Чтение номеров из файла Excel"
   ]
  },
  {
   "cell_type": "code",
   "execution_count": 2,
   "metadata": {},
   "outputs": [],
   "source": [
    "numbers_df = pd.read_excel(open('NumberZakupkiGOV.xlsx','rb'))\n",
    "numbers_list = numbers_df['Номер закупки'].tolist()"
   ]
  },
  {
   "cell_type": "code",
   "execution_count": 3,
   "metadata": {},
   "outputs": [],
   "source": [
    "session = requests.session()\n",
    "headers = {'User-Agent': 'Mozilla/5.0 (Windows NT 10.0; WOW64) AppleWebKit/537.36 (KHTML, like Gecko) Chrome/54.0.2810.1 Safari/537.36'}"
   ]
  },
  {
   "cell_type": "markdown",
   "metadata": {},
   "source": [
    "Функция получение текста HTML-файла"
   ]
  },
  {
   "cell_type": "code",
   "execution_count": 4,
   "metadata": {},
   "outputs": [],
   "source": [
    "def get_html(url):\n",
    "    r = session.get(url, headers=headers)\n",
    "    return r.text"
   ]
  },
  {
   "cell_type": "code",
   "execution_count": 5,
   "metadata": {},
   "outputs": [],
   "source": [
    "numbers = []\n",
    "starting_price = []\n",
    "customer = []\n",
    "purchase_object = []\n",
    "redaction = []\n",
    "documentation = []\n",
    "place = []\n",
    "index = []"
   ]
  },
  {
   "cell_type": "markdown",
   "metadata": {},
   "source": [
    "Программа будет брать данные с 3 разных страниц: страница результата поиска по номеру, страница общей информации по закупке и страница документации к ней. Для этого разделим код на 3 части."
   ]
  },
  {
   "cell_type": "markdown",
   "metadata": {},
   "source": [
    "# Выгрузка данных"
   ]
  },
  {
   "cell_type": "markdown",
   "metadata": {},
   "source": [
    "### 1. Страница результатов поиска по номеру"
   ]
  },
  {
   "cell_type": "markdown",
   "metadata": {},
   "source": [
    "Url будет состоять из двух частей, между которыми будет вставляться номер закупки"
   ]
  },
  {
   "cell_type": "code",
   "execution_count": 6,
   "metadata": {},
   "outputs": [],
   "source": [
    "url1 = 'https://zakupki.gov.ru/epz/order/extendedsearch/results.html?searchString='\n",
    "url2 = '&morphology=on&search-filter=Дате+размещения&pageNumber=1&sortDirection=false&recordsPerPage=_10&showLotsInfoHidden=false&sortBy=UPDATE_DATE&fz44=on&fz223=on&af=on&ca=on&pc=on&pa=on&currencyIdGeneral=-1'"
   ]
  },
  {
   "cell_type": "markdown",
   "metadata": {},
   "source": [
    "Функция получения цены. В случае если цена на сайте отсутствует, возвращается пустое значение"
   ]
  },
  {
   "cell_type": "code",
   "execution_count": 7,
   "metadata": {},
   "outputs": [],
   "source": [
    "def get_price(html):\n",
    "    soup = BeautifulSoup(html, 'lxml')\n",
    "    try:\n",
    "        price = soup.find('form', class_='formValidation search search-quick').find_all('div', class_='container')[1].find('div', class_='row').find('div', class_='col-9 search-results').find('div', class_='search-registry-entrys-block').find('div', class_='search-registry-entry-block box-shadow-search-input').find('div', class_='row no-gutters registry-entry__form mr-0').find('div', class_='col col d-flex flex-column registry-entry__right-block b-left').find('div', class_='price-block').find('div', class_='price-block__value').text\n",
    "        price = price.strip()\n",
    "        return re.sub('\\xa0', '', price)\n",
    "    except:\n",
    "        return ''"
   ]
  },
  {
   "cell_type": "code",
   "execution_count": 8,
   "metadata": {},
   "outputs": [],
   "source": [
    "for number in numbers_list:\n",
    "    url = url1 + str(number) + url2\n",
    "    html = get_html(url)\n",
    "    starting_price.append(get_price(html))"
   ]
  },
  {
   "cell_type": "markdown",
   "metadata": {},
   "source": [
    "### 2. Страница с общей информацией"
   ]
  },
  {
   "cell_type": "code",
   "execution_count": 9,
   "metadata": {},
   "outputs": [],
   "source": [
    "const_url = 'https://zakupki.gov.ru/223/purchase/public/purchase/info/common-info.html?regNumber='"
   ]
  },
  {
   "cell_type": "markdown",
   "metadata": {},
   "source": [
    "Функция получения номера закупки, заказчика, объекта закупки и редакции"
   ]
  },
  {
   "cell_type": "code",
   "execution_count": 10,
   "metadata": {},
   "outputs": [],
   "source": [
    "def get_data(html):\n",
    "    data = []\n",
    "    soup = BeautifulSoup(html, 'lxml')\n",
    "    path = soup.find('div', class_='cardWrapper').find('div', class_='wrapper').find('div', class_='mainbox').find('div', class_='cardWrapper').find('div', class_='wrapper').find('div', class_='mainBox').find('div', class_='contentTabBoxBlock').find('div', class_='noticeTabBox padBtm20')\n",
    "    path1 = path.find('div', class_='noticeTabBoxWrapper')\n",
    "    path2 = path.find_all('div', class_='noticeTabBoxWrapper')[1]\n",
    "    data.append(path1.find_all('td')[3].text.strip()) #номер закупки\n",
    "    data.append(path2.find_all('td')[1].text.strip()) #заказчик\n",
    "    data.append(path1.find_all('td')[10].text.strip()) #редакция\n",
    "    data.append(path1.find_all('td')[7].text.strip()) #объект закупки \n",
    "    return data"
   ]
  },
  {
   "cell_type": "markdown",
   "metadata": {},
   "source": [
    "Функция получения места подведения итогов"
   ]
  },
  {
   "cell_type": "code",
   "execution_count": 11,
   "metadata": {},
   "outputs": [],
   "source": [
    "def get_place(html):\n",
    "    soup = BeautifulSoup(html, 'lxml')\n",
    "    \n",
    "    place = soup.find('div', class_='cardWrapper').find('div', class_='wrapper').find('div', class_='mainbox').find('div', class_='cardWrapper').find('div', class_='wrapper').find('div', class_='mainBox').find('div', class_='contentTabBoxBlock').find('div', class_='noticeTabBox padBtm20')\n",
    "    for i in range(0, len(place.find_all('h2'))):\n",
    "        if place.find_all('h2')[i].text == 'Порядок проведения процедуры':\n",
    "            place = place.find_all('div', class_='noticeTabBoxWrapper')[i]\n",
    "            for j in range(0, len(place.find_all('td'))):\n",
    "                if place.find_all('td')[j].text == 'Место подведения итогов':\n",
    "                    return place.find_all('td')[j+1].text"
   ]
  },
  {
   "cell_type": "code",
   "execution_count": 12,
   "metadata": {},
   "outputs": [],
   "source": [
    "for number in numbers_list:\n",
    "    url = const_url + str(number)\n",
    "    html = get_html(url)\n",
    "    data = get_data(html)\n",
    "    numbers.append(data[0])\n",
    "    customer.append(data[1])\n",
    "    redaction.append(data[2])\n",
    "    purchase_object.append(data[3])\n",
    "    place.append(get_place(html))"
   ]
  },
  {
   "cell_type": "markdown",
   "metadata": {},
   "source": [
    "Получение индекса из места подведения итогов с помощью регулярного выражения"
   ]
  },
  {
   "cell_type": "code",
   "execution_count": 13,
   "metadata": {},
   "outputs": [],
   "source": [
    "import re\n",
    "for i in range(len(place)):\n",
    "    parser = re.findall('(\\d{6})', place[i])\n",
    "    try:\n",
    "        index.append(int(parser[0]))\n",
    "    except:\n",
    "        index.append('')"
   ]
  },
  {
   "cell_type": "markdown",
   "metadata": {},
   "source": [
    "### 3. Страница с документацией"
   ]
  },
  {
   "cell_type": "code",
   "execution_count": 14,
   "metadata": {},
   "outputs": [],
   "source": [
    "url_doc ='https://zakupki.gov.ru/223/purchase/public/purchase/info/documents.html?regNumber='"
   ]
  },
  {
   "cell_type": "code",
   "execution_count": 15,
   "metadata": {},
   "outputs": [],
   "source": [
    "def get_documentation(html):\n",
    "    soup = BeautifulSoup(html, 'lxml')\n",
    "    \n",
    "    documentation =soup.find('div', class_='cardWrapper').find('div', class_='wrapper').find('div', class_='mainbox').find('div', class_='cardWrapper').find('div', class_='wrapper').find('div', class_='mainBox').find('div', class_='contentTabBoxBlock').find('div', class_='noticeTabBox padBtm20').find('div', class_='contentTabBoxBlock').find('div', class_='noticeTabBox').find('div', class_='noticeTabBoxWrapper').find('div', class_='addingTbl padTop10 padBtm10 autoTh')\n",
    "    documentation = documentation.find('table', class_='documentTablet').find('tr', class_='odd').find_all('a')[1].text\n",
    "    return documentation"
   ]
  },
  {
   "cell_type": "code",
   "execution_count": 16,
   "metadata": {},
   "outputs": [],
   "source": [
    "for number in numbers_list:\n",
    "    url = url_doc + str(number) \n",
    "    html = get_html(url)\n",
    "    documentation.append(get_documentation(html))"
   ]
  },
  {
   "cell_type": "markdown",
   "metadata": {},
   "source": [
    "# Составление таблицы"
   ]
  },
  {
   "cell_type": "code",
   "execution_count": 17,
   "metadata": {},
   "outputs": [
    {
     "data": {
      "text/html": [
       "<div>\n",
       "<style scoped>\n",
       "    .dataframe tbody tr th:only-of-type {\n",
       "        vertical-align: middle;\n",
       "    }\n",
       "\n",
       "    .dataframe tbody tr th {\n",
       "        vertical-align: top;\n",
       "    }\n",
       "\n",
       "    .dataframe thead th {\n",
       "        text-align: right;\n",
       "    }\n",
       "</style>\n",
       "<table border=\"1\" class=\"dataframe\">\n",
       "  <thead>\n",
       "    <tr style=\"text-align: right;\">\n",
       "      <th></th>\n",
       "      <th>Номер закупки</th>\n",
       "      <th>Начальная цена</th>\n",
       "      <th>Заказчик</th>\n",
       "      <th>Объект закупки</th>\n",
       "      <th>Редакция</th>\n",
       "      <th>Документ по закупке</th>\n",
       "      <th>Место подведения итогов</th>\n",
       "      <th>Индекс</th>\n",
       "    </tr>\n",
       "  </thead>\n",
       "  <tbody>\n",
       "    <tr>\n",
       "      <th>0</th>\n",
       "      <td>32009401407</td>\n",
       "      <td>60830000,00 ₽</td>\n",
       "      <td>ПУБЛИЧНОЕ АКЦИОНЕРНОЕ ОБЩЕСТВО \"СБЕРБАНК РОССИИ\"</td>\n",
       "      <td>ЗП - 81031191 (проектирование и строительство ...</td>\n",
       "      <td>1</td>\n",
       "      <td>Документация аукциона.docx</td>\n",
       "      <td>117997, Москва, ул. Вавилова, 19</td>\n",
       "      <td>117997</td>\n",
       "    </tr>\n",
       "    <tr>\n",
       "      <th>1</th>\n",
       "      <td>32009417101</td>\n",
       "      <td>4285524,88 ₽</td>\n",
       "      <td>ПУБЛИЧНОЕ АКЦИОНЕРНОЕ ОБЩЕСТВО \"СБЕРБАНК РОССИИ\"</td>\n",
       "      <td>ЗП – 81031710 выполнение работ по перепланиров...</td>\n",
       "      <td>1</td>\n",
       "      <td>ЗП81031710.docx</td>\n",
       "      <td>443077, г. Самара, Московское шоссе, 15, Повол...</td>\n",
       "      <td>443077</td>\n",
       "    </tr>\n",
       "    <tr>\n",
       "      <th>2</th>\n",
       "      <td>32009440741</td>\n",
       "      <td></td>\n",
       "      <td>ПУБЛИЧНОЕ АКЦИОНЕРНОЕ ОБЩЕСТВО \"СБЕРБАНК РОССИИ\"</td>\n",
       "      <td>ЗП – 81014837 ОКАЗАНИЕ УСЛУГ ПО ОЦЕНКЕ ИМУЩЕСТ...</td>\n",
       "      <td>1</td>\n",
       "      <td>Документация.docx</td>\n",
       "      <td>620026, г. Екатеринбург, ул. Куйбышева, 67</td>\n",
       "      <td>620026</td>\n",
       "    </tr>\n",
       "    <tr>\n",
       "      <th>3</th>\n",
       "      <td>32009457505</td>\n",
       "      <td>1737552,30 ₽</td>\n",
       "      <td>ПУБЛИЧНОЕ АКЦИОНЕРНОЕ ОБЩЕСТВО \"СБЕРБАНК РОССИИ\"</td>\n",
       "      <td>ЗП-81032015 (Выполнение работ по реконструкции)</td>\n",
       "      <td>1</td>\n",
       "      <td>ЮЗБ2020(ЗКА.) (1).docx</td>\n",
       "      <td>Юго-Западный банк ПАО Сбербанк:344068, г. Рост...</td>\n",
       "      <td>344068</td>\n",
       "    </tr>\n",
       "    <tr>\n",
       "      <th>4</th>\n",
       "      <td>32009457949</td>\n",
       "      <td>11359572,00 ₽</td>\n",
       "      <td>ПУБЛИЧНОЕ АКЦИОНЕРНОЕ ОБЩЕСТВО \"СБЕРБАНК РОССИИ\"</td>\n",
       "      <td>ЗП – 81031774 ВЫПОЛНЕНИЕ СТРОИТЕЛЬНО-МОНТАЖНЫХ...</td>\n",
       "      <td>1</td>\n",
       "      <td>ЗП  81031774.docx</td>\n",
       "      <td>г. Воронеж, ул. Плехановская, д. 48Б.</td>\n",
       "      <td></td>\n",
       "    </tr>\n",
       "    <tr>\n",
       "      <th>5</th>\n",
       "      <td>32009465565</td>\n",
       "      <td>1794895,00 ₽</td>\n",
       "      <td>ПУБЛИЧНОЕ АКЦИОНЕРНОЕ ОБЩЕСТВО \"СБЕРБАНК РОССИИ\"</td>\n",
       "      <td>ЗП-81032406 (строительно-монтажные работы на о...</td>\n",
       "      <td>1</td>\n",
       "      <td>ЗК  обособление Большевиствская 30.docx</td>\n",
       "      <td>Волго-Вятский банк ПАО Сбербанк (603005, г. Н....</td>\n",
       "      <td>603005</td>\n",
       "    </tr>\n",
       "    <tr>\n",
       "      <th>6</th>\n",
       "      <td>32009475339</td>\n",
       "      <td>2467999,97 ₽</td>\n",
       "      <td>ПУБЛИЧНОЕ АКЦИОНЕРНОЕ ОБЩЕСТВО \"СБЕРБАНК РОССИИ\"</td>\n",
       "      <td>ЗП - 81031715  (ВЫПОЛНЕНИЕ СТРОИТЕЛЬНО -МОНТАЖ...</td>\n",
       "      <td>1</td>\n",
       "      <td>Документация (5).docx</td>\n",
       "      <td>Байкальский банк ПАО Сбербанк 664011, г. Иркут...</td>\n",
       "      <td>664011</td>\n",
       "    </tr>\n",
       "    <tr>\n",
       "      <th>7</th>\n",
       "      <td>32009475352</td>\n",
       "      <td>7200000,00 ₽</td>\n",
       "      <td>ПУБЛИЧНОЕ АКЦИОНЕРНОЕ ОБЩЕСТВО \"СБЕРБАНК РОССИИ\"</td>\n",
       "      <td>ЗП–81031805 МОНТАЖ СИСТЕМ БЕЗОПАСНОСТИ</td>\n",
       "      <td>1</td>\n",
       "      <td>02 ЗП-81031805 (АСМСП) v1.docx</td>\n",
       "      <td>г. Санкт-Петербург, ул. Красного Текстильщика,...</td>\n",
       "      <td></td>\n",
       "    </tr>\n",
       "    <tr>\n",
       "      <th>8</th>\n",
       "      <td>32009480108</td>\n",
       "      <td>4775000,00 ₽</td>\n",
       "      <td>ПУБЛИЧНОЕ АКЦИОНЕРНОЕ ОБЩЕСТВО \"СБЕРБАНК РОССИИ\"</td>\n",
       "      <td>ЗП – 81032320 (Выполнение работ по разработке ...</td>\n",
       "      <td>1</td>\n",
       "      <td>Документация 65-3.docx</td>\n",
       "      <td>620026, г. Екатеринбург, ул. Куйбышева, 67</td>\n",
       "      <td>620026</td>\n",
       "    </tr>\n",
       "    <tr>\n",
       "      <th>9</th>\n",
       "      <td>32009483456</td>\n",
       "      <td>999997,67 ₽</td>\n",
       "      <td>ПУБЛИЧНОЕ АКЦИОНЕРНОЕ ОБЩЕСТВО \"СБЕРБАНК РОССИИ\"</td>\n",
       "      <td>ЗП – 81032549 (капитальный ремонт объекта)</td>\n",
       "      <td>1</td>\n",
       "      <td>ЗК  кап.рем. Глазов разм.docx</td>\n",
       "      <td>603005, Россия, Нижегородская область, г. Нижн...</td>\n",
       "      <td>603005</td>\n",
       "    </tr>\n",
       "    <tr>\n",
       "      <th>10</th>\n",
       "      <td>32009486983</td>\n",
       "      <td>3339339,20 ₽</td>\n",
       "      <td>ПУБЛИЧНОЕ АКЦИОНЕРНОЕ ОБЩЕСТВО \"СБЕРБАНК РОССИИ\"</td>\n",
       "      <td>ЗП – 81032289 ВЫПОЛНЕНИЕ СТРОИТЕЛЬНО-МОНТАЖНЫХ...</td>\n",
       "      <td>1</td>\n",
       "      <td>ЗП - 81032289 .docx</td>\n",
       "      <td>г. Воронеж, ул. Плехановская, д. 48Б</td>\n",
       "      <td></td>\n",
       "    </tr>\n",
       "    <tr>\n",
       "      <th>11</th>\n",
       "      <td>32009486991</td>\n",
       "      <td>1507204,00 ₽</td>\n",
       "      <td>ПУБЛИЧНОЕ АКЦИОНЕРНОЕ ОБЩЕСТВО \"СБЕРБАНК РОССИИ\"</td>\n",
       "      <td>ЗП – 81032050 ВЫПОЛНЕНИЕ СТРОИТЕЛЬНО-МОНТАЖНЫХ...</td>\n",
       "      <td>1</td>\n",
       "      <td>ЗП - 81032050.docx</td>\n",
       "      <td>г. Воронеж, ул. Плехановская, д. 48Б</td>\n",
       "      <td></td>\n",
       "    </tr>\n",
       "    <tr>\n",
       "      <th>12</th>\n",
       "      <td>32009487018</td>\n",
       "      <td>2204310,00 ₽</td>\n",
       "      <td>ПУБЛИЧНОЕ АКЦИОНЕРНОЕ ОБЩЕСТВО \"СБЕРБАНК РОССИИ\"</td>\n",
       "      <td>ЗП - 81032544 (Монтаж котлов)</td>\n",
       "      <td>1</td>\n",
       "      <td>Запрос котировок.docx</td>\n",
       "      <td>603005, г. Н. Новгород, ул. Октябрьская, 35</td>\n",
       "      <td>603005</td>\n",
       "    </tr>\n",
       "    <tr>\n",
       "      <th>13</th>\n",
       "      <td>32009491591</td>\n",
       "      <td>7397578,80 ₽</td>\n",
       "      <td>ПУБЛИЧНОЕ АКЦИОНЕРНОЕ ОБЩЕСТВО \"СБЕРБАНК РОССИИ\"</td>\n",
       "      <td>ЗП – 81032276 ПРОВЕДЕНИЕ СТРОИТЕЛЬНО-МОНТАЖНЫХ...</td>\n",
       "      <td>1</td>\n",
       "      <td>Аукцион Фасад Суворова 81032276 _2.docx</td>\n",
       "      <td>г. Самара, Московское шоссе, 15</td>\n",
       "      <td></td>\n",
       "    </tr>\n",
       "    <tr>\n",
       "      <th>14</th>\n",
       "      <td>32009498963</td>\n",
       "      <td>14550000,00 ₽</td>\n",
       "      <td>ПУБЛИЧНОЕ АКЦИОНЕРНОЕ ОБЩЕСТВО \"СБЕРБАНК РОССИИ\"</td>\n",
       "      <td>ЗП –  81032463 (выполнение комплекса работ по ...</td>\n",
       "      <td>1</td>\n",
       "      <td>Аукцион_ Саров КИЦ.docx</td>\n",
       "      <td>603005, Россия, Нижегородская область, г. Нижн...</td>\n",
       "      <td>603005</td>\n",
       "    </tr>\n",
       "  </tbody>\n",
       "</table>\n",
       "</div>"
      ],
      "text/plain": [
       "   Номер закупки Начальная цена  \\\n",
       "0    32009401407  60830000,00 ₽   \n",
       "1    32009417101   4285524,88 ₽   \n",
       "2    32009440741                  \n",
       "3    32009457505   1737552,30 ₽   \n",
       "4    32009457949  11359572,00 ₽   \n",
       "5    32009465565   1794895,00 ₽   \n",
       "6    32009475339   2467999,97 ₽   \n",
       "7    32009475352   7200000,00 ₽   \n",
       "8    32009480108   4775000,00 ₽   \n",
       "9    32009483456    999997,67 ₽   \n",
       "10   32009486983   3339339,20 ₽   \n",
       "11   32009486991   1507204,00 ₽   \n",
       "12   32009487018   2204310,00 ₽   \n",
       "13   32009491591   7397578,80 ₽   \n",
       "14   32009498963  14550000,00 ₽   \n",
       "\n",
       "                                            Заказчик  \\\n",
       "0   ПУБЛИЧНОЕ АКЦИОНЕРНОЕ ОБЩЕСТВО \"СБЕРБАНК РОССИИ\"   \n",
       "1   ПУБЛИЧНОЕ АКЦИОНЕРНОЕ ОБЩЕСТВО \"СБЕРБАНК РОССИИ\"   \n",
       "2   ПУБЛИЧНОЕ АКЦИОНЕРНОЕ ОБЩЕСТВО \"СБЕРБАНК РОССИИ\"   \n",
       "3   ПУБЛИЧНОЕ АКЦИОНЕРНОЕ ОБЩЕСТВО \"СБЕРБАНК РОССИИ\"   \n",
       "4   ПУБЛИЧНОЕ АКЦИОНЕРНОЕ ОБЩЕСТВО \"СБЕРБАНК РОССИИ\"   \n",
       "5   ПУБЛИЧНОЕ АКЦИОНЕРНОЕ ОБЩЕСТВО \"СБЕРБАНК РОССИИ\"   \n",
       "6   ПУБЛИЧНОЕ АКЦИОНЕРНОЕ ОБЩЕСТВО \"СБЕРБАНК РОССИИ\"   \n",
       "7   ПУБЛИЧНОЕ АКЦИОНЕРНОЕ ОБЩЕСТВО \"СБЕРБАНК РОССИИ\"   \n",
       "8   ПУБЛИЧНОЕ АКЦИОНЕРНОЕ ОБЩЕСТВО \"СБЕРБАНК РОССИИ\"   \n",
       "9   ПУБЛИЧНОЕ АКЦИОНЕРНОЕ ОБЩЕСТВО \"СБЕРБАНК РОССИИ\"   \n",
       "10  ПУБЛИЧНОЕ АКЦИОНЕРНОЕ ОБЩЕСТВО \"СБЕРБАНК РОССИИ\"   \n",
       "11  ПУБЛИЧНОЕ АКЦИОНЕРНОЕ ОБЩЕСТВО \"СБЕРБАНК РОССИИ\"   \n",
       "12  ПУБЛИЧНОЕ АКЦИОНЕРНОЕ ОБЩЕСТВО \"СБЕРБАНК РОССИИ\"   \n",
       "13  ПУБЛИЧНОЕ АКЦИОНЕРНОЕ ОБЩЕСТВО \"СБЕРБАНК РОССИИ\"   \n",
       "14  ПУБЛИЧНОЕ АКЦИОНЕРНОЕ ОБЩЕСТВО \"СБЕРБАНК РОССИИ\"   \n",
       "\n",
       "                                       Объект закупки Редакция  \\\n",
       "0   ЗП - 81031191 (проектирование и строительство ...        1   \n",
       "1   ЗП – 81031710 выполнение работ по перепланиров...        1   \n",
       "2   ЗП – 81014837 ОКАЗАНИЕ УСЛУГ ПО ОЦЕНКЕ ИМУЩЕСТ...        1   \n",
       "3     ЗП-81032015 (Выполнение работ по реконструкции)        1   \n",
       "4   ЗП – 81031774 ВЫПОЛНЕНИЕ СТРОИТЕЛЬНО-МОНТАЖНЫХ...        1   \n",
       "5   ЗП-81032406 (строительно-монтажные работы на о...        1   \n",
       "6   ЗП - 81031715  (ВЫПОЛНЕНИЕ СТРОИТЕЛЬНО -МОНТАЖ...        1   \n",
       "7              ЗП–81031805 МОНТАЖ СИСТЕМ БЕЗОПАСНОСТИ        1   \n",
       "8   ЗП – 81032320 (Выполнение работ по разработке ...        1   \n",
       "9          ЗП – 81032549 (капитальный ремонт объекта)        1   \n",
       "10  ЗП – 81032289 ВЫПОЛНЕНИЕ СТРОИТЕЛЬНО-МОНТАЖНЫХ...        1   \n",
       "11  ЗП – 81032050 ВЫПОЛНЕНИЕ СТРОИТЕЛЬНО-МОНТАЖНЫХ...        1   \n",
       "12                      ЗП - 81032544 (Монтаж котлов)        1   \n",
       "13  ЗП – 81032276 ПРОВЕДЕНИЕ СТРОИТЕЛЬНО-МОНТАЖНЫХ...        1   \n",
       "14  ЗП –  81032463 (выполнение комплекса работ по ...        1   \n",
       "\n",
       "                        Документ по закупке  \\\n",
       "0                Документация аукциона.docx   \n",
       "1                           ЗП81031710.docx   \n",
       "2                         Документация.docx   \n",
       "3                    ЮЗБ2020(ЗКА.) (1).docx   \n",
       "4                         ЗП  81031774.docx   \n",
       "5   ЗК  обособление Большевиствская 30.docx   \n",
       "6                     Документация (5).docx   \n",
       "7            02 ЗП-81031805 (АСМСП) v1.docx   \n",
       "8                    Документация 65-3.docx   \n",
       "9             ЗК  кап.рем. Глазов разм.docx   \n",
       "10                      ЗП - 81032289 .docx   \n",
       "11                       ЗП - 81032050.docx   \n",
       "12                    Запрос котировок.docx   \n",
       "13  Аукцион Фасад Суворова 81032276 _2.docx   \n",
       "14                  Аукцион_ Саров КИЦ.docx   \n",
       "\n",
       "                              Место подведения итогов  Индекс  \n",
       "0                    117997, Москва, ул. Вавилова, 19  117997  \n",
       "1   443077, г. Самара, Московское шоссе, 15, Повол...  443077  \n",
       "2          620026, г. Екатеринбург, ул. Куйбышева, 67  620026  \n",
       "3   Юго-Западный банк ПАО Сбербанк:344068, г. Рост...  344068  \n",
       "4               г. Воронеж, ул. Плехановская, д. 48Б.          \n",
       "5   Волго-Вятский банк ПАО Сбербанк (603005, г. Н....  603005  \n",
       "6   Байкальский банк ПАО Сбербанк 664011, г. Иркут...  664011  \n",
       "7   г. Санкт-Петербург, ул. Красного Текстильщика,...          \n",
       "8          620026, г. Екатеринбург, ул. Куйбышева, 67  620026  \n",
       "9   603005, Россия, Нижегородская область, г. Нижн...  603005  \n",
       "10               г. Воронеж, ул. Плехановская, д. 48Б          \n",
       "11               г. Воронеж, ул. Плехановская, д. 48Б          \n",
       "12        603005, г. Н. Новгород, ул. Октябрьская, 35  603005  \n",
       "13                    г. Самара, Московское шоссе, 15          \n",
       "14  603005, Россия, Нижегородская область, г. Нижн...  603005  "
      ]
     },
     "execution_count": 17,
     "metadata": {},
     "output_type": "execute_result"
    }
   ],
   "source": [
    "comp_df = pd.DataFrame(\n",
    "    {  \n",
    "        'Номер закупки': numbers,\n",
    "        'Начальная цена': starting_price,\n",
    "        'Заказчик': customer,\n",
    "        'Объект закупки': purchase_object,\n",
    "        'Редакция' : redaction,\n",
    "        'Документ по закупке' : documentation,\n",
    "        'Место подведения итогов': place,\n",
    "        'Индекс' : index\n",
    "    })\n",
    "comp_df"
   ]
  },
  {
   "cell_type": "markdown",
   "metadata": {},
   "source": [
    "### Доля закупок, которые относятся к стройтельно-монтажным работам 33%"
   ]
  },
  {
   "cell_type": "code",
   "execution_count": 18,
   "metadata": {},
   "outputs": [
    {
     "data": {
      "text/plain": [
       "0.3333333333333333"
      ]
     },
     "execution_count": 18,
     "metadata": {},
     "output_type": "execute_result"
    }
   ],
   "source": [
    "count = 0\n",
    "for i in range(comp_df.shape[0]):\n",
    "    if re.search('(СТРОИТЕЛЬНО.*?МОНТАЖНЫХ)', comp_df.iloc[i, 3]) != None:\n",
    "        count += 1\n",
    "proportion = count/comp_df.shape[0]\n",
    "proportion"
   ]
  },
  {
   "cell_type": "markdown",
   "metadata": {},
   "source": [
    "### Количество строк в правильном склонении"
   ]
  },
  {
   "cell_type": "code",
   "execution_count": 19,
   "metadata": {},
   "outputs": [
    {
     "name": "stdout",
     "output_type": "stream",
     "text": [
      "В таблице 15 строк\n"
     ]
    }
   ],
   "source": [
    "count_of_strings = comp_df.shape[0]\n",
    "remainder = count_of_strings % 10\n",
    "if count_of_strings == 0:\n",
    "    print('В таблице нет строк')\n",
    "elif remainder == 0 or remainder >=5 or (count_of_strings >=11 and count_of_strings <=19):  \n",
    "    print('В таблице', count_of_strings, 'строк')\n",
    "elif remainder == 1:  \n",
    "    print('В таблице', count_of_strings, 'строка')\n",
    "else:\n",
    "    print('В таблице', count_of_strings, 'строки')"
   ]
  },
  {
   "cell_type": "markdown",
   "metadata": {},
   "source": [
    "### Подсчитать сумму по столбцу «Начальная цена»"
   ]
  },
  {
   "cell_type": "code",
   "execution_count": 20,
   "metadata": {},
   "outputs": [
    {
     "name": "stdout",
     "output_type": "stream",
     "text": [
      "124448973.82 ₽\n"
     ]
    }
   ],
   "source": [
    "summary = 0\n",
    "for i in range(comp_df.shape[0]):\n",
    "    if comp_df.iloc[i, 1] != '':\n",
    "        temp = float(re.sub(',','.',re.sub(' ₽', '', comp_df.iloc[i, 1])))\n",
    "        summary += temp\n",
    "print(str(round(summary, 2)) + ' ₽')"
   ]
  },
  {
   "cell_type": "markdown",
   "metadata": {},
   "source": [
    "# Сохранение в файл MS Excel"
   ]
  },
  {
   "cell_type": "code",
   "execution_count": 21,
   "metadata": {},
   "outputs": [],
   "source": [
    "comp_df.to_excel(\"result.xlsx\", index=False)"
   ]
  }
 ],
 "metadata": {
  "kernelspec": {
   "display_name": "Python 3",
   "language": "python",
   "name": "python3"
  },
  "language_info": {
   "codemirror_mode": {
    "name": "ipython",
    "version": 3
   },
   "file_extension": ".py",
   "mimetype": "text/x-python",
   "name": "python",
   "nbconvert_exporter": "python",
   "pygments_lexer": "ipython3",
   "version": "3.8.5"
  }
 },
 "nbformat": 4,
 "nbformat_minor": 4
}
